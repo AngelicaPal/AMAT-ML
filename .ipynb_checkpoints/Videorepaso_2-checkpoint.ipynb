{
 "cells": [
  {
   "cell_type": "markdown",
   "id": "38677e21",
   "metadata": {},
   "source": [
    "## Ciencia de datos con python - Repaso 002\n",
    "Enlace: https://vimeo.com/856878144?share=copy\n",
    "Contraseña:"
   ]
  },
  {
   "cell_type": "markdown",
   "id": "7d89e835",
   "metadata": {},
   "source": [
    "## Estructuras condiciales "
   ]
  },
  {
   "cell_type": "code",
   "execution_count": 5,
   "id": "0ebc55eb",
   "metadata": {},
   "outputs": [
    {
     "name": "stdout",
     "output_type": "stream",
     "text": [
      "Dame una ciudad: zacatecas\n",
      "No comozco esa ciudad\n"
     ]
    }
   ],
   "source": [
    "ciudad = input('Dame una ciudad: ')\n",
    "\n",
    "if ciudad == 'Mexico':\n",
    "    print('Me gustan los tacos')\n",
    "else:\n",
    "    print('No comozco esa ciudad')"
   ]
  },
  {
   "cell_type": "code",
   "execution_count": 7,
   "id": "07c73aaf",
   "metadata": {},
   "outputs": [
    {
     "name": "stdout",
     "output_type": "stream",
     "text": [
      "Dame una ciudad: Japon\n",
      "Me gusta el sushi\n"
     ]
    }
   ],
   "source": [
    "ciudad = input('Dame una ciudad: ')\n",
    "\n",
    "if ciudad == 'Mexico':\n",
    "    print('Me gustan los tacos')\n",
    "elif ciudad == 'Nueva York':\n",
    "    print('Ciudad de los rascacielos')\n",
    "elif ciudad == 'Japon':\n",
    "    print('Me gusta el sushi')\n",
    "else:\n",
    "    print('No comozco esa ciudad')"
   ]
  },
  {
   "cell_type": "code",
   "execution_count": 15,
   "id": "5c02e793",
   "metadata": {},
   "outputs": [
    {
     "name": "stdout",
     "output_type": "stream",
     "text": [
      "El promedio es menos a 100\n"
     ]
    }
   ],
   "source": [
    "# Realizar un promedio de 2 numeros y verificar si es mayor a 100, \n",
    "# 1. En caso de serlo imprimir los dos números y el promedio\n",
    "# 2. En caso contrario imprimir la cadena, el promedio es menos a 100\n",
    "num_1 = 40\n",
    "num_2 = 50\n",
    "if (num_1 + num_2) / 2 > 100:\n",
    "    print('Número 1:',num_1, ',Número 2:',num_2, ',promedio:',(num_1 + num_2) / 2)\n",
    "else: \n",
    "    print('El promedio es menos a 100')"
   ]
  },
  {
   "cell_type": "code",
   "execution_count": 18,
   "id": "c2cfa695",
   "metadata": {},
   "outputs": [
    {
     "name": "stdout",
     "output_type": "stream",
     "text": [
      "Dame primer número: 2\n",
      "Dame segundo número: 3\n",
      "Dame tercero número: 4\n",
      "4\n"
     ]
    }
   ],
   "source": [
    "# Realizar un programa que pida al usuario 3 números\n",
    "# Si los tres son iguales imprimirlos\n",
    "# Si dos de los tres son iguales imprimir 'hola'\n",
    "# Si todos son difierntes imprimir el numero 4\n",
    "numer_1 = int(input('Dame primer número: '))\n",
    "numer_2 = int(input('Dame segundo número: '))\n",
    "numer_3 = int(input('Dame tercero número: '))\n",
    "\n",
    "if (numer_1 == numer_2) and (numer_2 == numer_3):\n",
    "    print('El número es :',numer_1)\n",
    "elif((numer_1 == numer_2) or (numer_2 == numer_3) or (numer_1 == numer_3)): \n",
    "    print('hola')\n",
    "else:\n",
    "    print('4')"
   ]
  },
  {
   "cell_type": "code",
   "execution_count": null,
   "id": "29cd54fc",
   "metadata": {},
   "outputs": [],
   "source": [
    "'min 23:07'"
   ]
  }
 ],
 "metadata": {
  "kernelspec": {
   "display_name": "Python 3 (ipykernel)",
   "language": "python",
   "name": "python3"
  },
  "language_info": {
   "codemirror_mode": {
    "name": "ipython",
    "version": 3
   },
   "file_extension": ".py",
   "mimetype": "text/x-python",
   "name": "python",
   "nbconvert_exporter": "python",
   "pygments_lexer": "ipython3",
   "version": "3.10.12"
  }
 },
 "nbformat": 4,
 "nbformat_minor": 5
}
