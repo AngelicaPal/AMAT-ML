{
 "cells": [
  {
   "cell_type": "markdown",
   "id": "838df0d7-2c31-412c-b65e-3b90041aa959",
   "metadata": {},
   "source": [
    "## Graficas"
   ]
  },
  {
   "cell_type": "code",
   "execution_count": 3,
   "id": "af86b490-4bfb-4b4a-b706-7125d1e03276",
   "metadata": {
    "tags": []
   },
   "outputs": [],
   "source": [
    "from siuba import *\n",
    "from plotnine import data as p9d\n",
    "from mizani.formatters import comma_format, dollar_format\n",
    "from sklearn import datasets"
   ]
  },
  {
   "cell_type": "code",
   "execution_count": null,
   "id": "6e06d87c-b330-4d52-9604-4865dea269b4",
   "metadata": {},
   "outputs": [],
   "source": []
  }
 ],
 "metadata": {
  "kernelspec": {
   "display_name": "Python 3 (ipykernel)",
   "language": "python",
   "name": "python3"
  },
  "language_info": {
   "codemirror_mode": {
    "name": "ipython",
    "version": 3
   },
   "file_extension": ".py",
   "mimetype": "text/x-python",
   "name": "python",
   "nbconvert_exporter": "python",
   "pygments_lexer": "ipython3",
   "version": "3.10.12"
  }
 },
 "nbformat": 4,
 "nbformat_minor": 5
}
