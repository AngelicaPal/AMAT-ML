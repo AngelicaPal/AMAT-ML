{
 "cells": [
  {
   "cell_type": "markdown",
   "id": "60b2c3d0",
   "metadata": {},
   "source": [
    "## Notas del curso https://acturio.github.io/amt23_01intro2dsml_py/"
   ]
  },
  {
   "cell_type": "code",
   "execution_count": 5,
   "id": "1e996ebd",
   "metadata": {},
   "outputs": [
    {
     "name": "stdout",
     "output_type": "stream",
     "text": [
      "3.10.12\n"
     ]
    }
   ],
   "source": [
    "from platform import python_version\n",
    "print(python_version())"
   ]
  },
  {
   "cell_type": "code",
   "execution_count": 1,
   "id": "b7e55523",
   "metadata": {},
   "outputs": [],
   "source": [
    "import pickle\n",
    "import pandas as pd\n",
    "import numpy as np"
   ]
  },
  {
   "cell_type": "markdown",
   "id": "d191c4e9-bd07-41da-a66b-91ae04ed6e42",
   "metadata": {},
   "source": [
    "## Lectura de un archivo"
   ]
  },
  {
   "cell_type": "code",
   "execution_count": null,
   "id": "c6f51fb8-829f-4301-825b-13e678341f97",
   "metadata": {},
   "outputs": [],
   "source": [
    "data_csv = pd.read_csv(\"data/ames.csv\")"
   ]
  }
 ],
 "metadata": {
  "kernelspec": {
   "display_name": "Python 3 (ipykernel)",
   "language": "python",
   "name": "python3"
  },
  "language_info": {
   "codemirror_mode": {
    "name": "ipython",
    "version": 3
   },
   "file_extension": ".py",
   "mimetype": "text/x-python",
   "name": "python",
   "nbconvert_exporter": "python",
   "pygments_lexer": "ipython3",
   "version": "3.10.12"
  }
 },
 "nbformat": 4,
 "nbformat_minor": 5
}
