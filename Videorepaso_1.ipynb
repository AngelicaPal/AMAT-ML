{
 "cells": [
  {
   "cell_type": "markdown",
   "id": "98c91089",
   "metadata": {},
   "source": [
    "## Ciencia de datos con python - Repaso 001\n",
    "Enlace: https://vimeo.com/856876673?share=copy\n",
    "Contraseña: RP210823/&!$\n"
   ]
  },
  {
   "cell_type": "markdown",
   "id": "155b021a",
   "metadata": {},
   "source": [
    "## Asignación de variables"
   ]
  },
  {
   "cell_type": "code",
   "execution_count": 2,
   "id": "12a052ba",
   "metadata": {},
   "outputs": [
    {
     "data": {
      "text/plain": [
       "3"
      ]
     },
     "execution_count": 2,
     "metadata": {},
     "output_type": "execute_result"
    }
   ],
   "source": [
    "x=3\n",
    "x"
   ]
  },
  {
   "cell_type": "code",
   "execution_count": 5,
   "id": "016883c9",
   "metadata": {},
   "outputs": [
    {
     "data": {
      "text/plain": [
       "'hola'"
      ]
     },
     "execution_count": 5,
     "metadata": {},
     "output_type": "execute_result"
    }
   ],
   "source": [
    "y = 'hola'\n",
    "z = \"mundo\"\n",
    "y"
   ]
  },
  {
   "cell_type": "code",
   "execution_count": 6,
   "id": "08f6c980",
   "metadata": {},
   "outputs": [
    {
     "data": {
      "text/plain": [
       "\"I don't like pizza\""
      ]
     },
     "execution_count": 6,
     "metadata": {},
     "output_type": "execute_result"
    }
   ],
   "source": [
    "\"I don't like pizza\""
   ]
  },
  {
   "cell_type": "code",
   "execution_count": 7,
   "id": "7fff6fa9",
   "metadata": {},
   "outputs": [],
   "source": [
    "#Reglas \n",
    "# 1) No usar palabras reservadas de python\n",
    "# 2) No usar simbolos especiales: #$%&()\n",
    "# 3) Lowercase (minusculas)\n",
    "# 4) No poner espacio en la asignación, en lugar de eso usar guión bajo x_1 = 5\n",
    "# 5) No comenzar con números"
   ]
  },
  {
   "cell_type": "code",
   "execution_count": 8,
   "id": "7cc72de9",
   "metadata": {},
   "outputs": [],
   "source": [
    "variable = 7+9-6\n",
    "variable_2 = 5/4\n",
    "variable_3 = (5**2) / (7 - 9 ** 4)"
   ]
  },
  {
   "cell_type": "code",
   "execution_count": 9,
   "id": "160ca874",
   "metadata": {},
   "outputs": [
    {
     "name": "stdout",
     "output_type": "stream",
     "text": [
      "10\n",
      "1.25\n"
     ]
    },
    {
     "data": {
      "text/plain": [
       "-0.0038144644491913335"
      ]
     },
     "execution_count": 9,
     "metadata": {},
     "output_type": "execute_result"
    }
   ],
   "source": [
    "print(variable)\n",
    "print(variable_2)\n",
    "variable_3"
   ]
  },
  {
   "cell_type": "code",
   "execution_count": 10,
   "id": "3ad71fc4",
   "metadata": {},
   "outputs": [
    {
     "data": {
      "text/plain": [
       "-0.004"
      ]
     },
     "execution_count": 10,
     "metadata": {},
     "output_type": "execute_result"
    }
   ],
   "source": [
    "## redondear número\n",
    "round(variable_3, 3) #redondeo a los decimales del segundo argumento"
   ]
  },
  {
   "cell_type": "code",
   "execution_count": 19,
   "id": "62f0998c",
   "metadata": {},
   "outputs": [
    {
     "name": "stdout",
     "output_type": "stream",
     "text": [
      "5\n",
      "9\n"
     ]
    }
   ],
   "source": [
    "##Reasignación\n",
    "a = 5\n",
    "print(a)\n",
    "a = 9\n",
    "print(a)\n"
   ]
  },
  {
   "cell_type": "code",
   "execution_count": 20,
   "id": "3e8dfabd",
   "metadata": {},
   "outputs": [
    {
     "data": {
      "text/plain": [
       "10"
      ]
     },
     "execution_count": 20,
     "metadata": {},
     "output_type": "execute_result"
    }
   ],
   "source": [
    "a = a+1\n",
    "a"
   ]
  },
  {
   "cell_type": "code",
   "execution_count": 21,
   "id": "6950f683",
   "metadata": {},
   "outputs": [
    {
     "data": {
      "text/plain": [
       "20"
      ]
     },
     "execution_count": 21,
     "metadata": {},
     "output_type": "execute_result"
    }
   ],
   "source": [
    "a=a*2\n",
    "a"
   ]
  },
  {
   "cell_type": "code",
   "execution_count": 22,
   "id": "98ce27cf",
   "metadata": {},
   "outputs": [
    {
     "data": {
      "text/plain": [
       "60"
      ]
     },
     "execution_count": 22,
     "metadata": {},
     "output_type": "execute_result"
    }
   ],
   "source": [
    "a = a+a+a\n",
    "a"
   ]
  },
  {
   "cell_type": "code",
   "execution_count": 23,
   "id": "f15c6e31",
   "metadata": {},
   "outputs": [
    {
     "data": {
      "text/plain": [
       "61"
      ]
     },
     "execution_count": 23,
     "metadata": {},
     "output_type": "execute_result"
    }
   ],
   "source": [
    "# De forma equivalente\n",
    "a += 1\n",
    "a"
   ]
  },
  {
   "cell_type": "code",
   "execution_count": 24,
   "id": "14769f1e",
   "metadata": {},
   "outputs": [
    {
     "data": {
      "text/plain": [
       "122"
      ]
     },
     "execution_count": 24,
     "metadata": {},
     "output_type": "execute_result"
    }
   ],
   "source": [
    "a *= 2\n",
    "a"
   ]
  },
  {
   "cell_type": "markdown",
   "id": "57af2bc4",
   "metadata": {},
   "source": [
    "## Listas"
   ]
  },
  {
   "cell_type": "code",
   "execution_count": 25,
   "id": "3e50f755",
   "metadata": {},
   "outputs": [],
   "source": [
    "lista = [3,56.8,'hola'] #sintaxis con corchetes"
   ]
  },
  {
   "cell_type": "code",
   "execution_count": 26,
   "id": "a638d0de",
   "metadata": {},
   "outputs": [
    {
     "data": {
      "text/plain": [
       "list"
      ]
     },
     "execution_count": 26,
     "metadata": {},
     "output_type": "execute_result"
    }
   ],
   "source": [
    "type(lista)"
   ]
  },
  {
   "cell_type": "code",
   "execution_count": 27,
   "id": "bc9332ac",
   "metadata": {},
   "outputs": [
    {
     "data": {
      "text/plain": [
       "3"
      ]
     },
     "execution_count": 27,
     "metadata": {},
     "output_type": "execute_result"
    }
   ],
   "source": [
    "# Tamaño de la lista\n",
    "len(lista)"
   ]
  },
  {
   "cell_type": "code",
   "execution_count": 29,
   "id": "9c3a0015",
   "metadata": {},
   "outputs": [
    {
     "name": "stdout",
     "output_type": "stream",
     "text": [
      "3\n",
      "56.8\n"
     ]
    },
    {
     "data": {
      "text/plain": [
       "'hola'"
      ]
     },
     "execution_count": 29,
     "metadata": {},
     "output_type": "execute_result"
    }
   ],
   "source": [
    "# Recuperar cada elemento de la lista (indexación)\n",
    "print(lista[0])\n",
    "print(lista[1])\n",
    "lista[2]"
   ]
  },
  {
   "cell_type": "code",
   "execution_count": 30,
   "id": "d939394b",
   "metadata": {},
   "outputs": [
    {
     "data": {
      "text/plain": [
       "'hola'"
      ]
     },
     "execution_count": 30,
     "metadata": {},
     "output_type": "execute_result"
    }
   ],
   "source": [
    "lista[-1] #indice negativo"
   ]
  },
  {
   "cell_type": "code",
   "execution_count": 31,
   "id": "4a583620",
   "metadata": {},
   "outputs": [
    {
     "data": {
      "text/plain": [
       "[56.8, 'hola']"
      ]
     },
     "execution_count": 31,
     "metadata": {},
     "output_type": "execute_result"
    }
   ],
   "source": [
    "#Slicing\n",
    "lista[1:] #me entrega la posición 1 hasta el final de la lista"
   ]
  },
  {
   "cell_type": "code",
   "execution_count": 33,
   "id": "c706a122",
   "metadata": {},
   "outputs": [
    {
     "data": {
      "text/plain": [
       "[3, 56.8]"
      ]
     },
     "execution_count": 33,
     "metadata": {},
     "output_type": "execute_result"
    }
   ],
   "source": [
    "lista[:2] # me entrega desde el inicio hasta una posición antes del 1 de la lista"
   ]
  },
  {
   "cell_type": "code",
   "execution_count": 36,
   "id": "7e377e3c",
   "metadata": {},
   "outputs": [
    {
     "data": {
      "text/plain": [
       "['manzana', 'pera', 'melon', 4, True, False, 'servilleta']"
      ]
     },
     "execution_count": 36,
     "metadata": {},
     "output_type": "execute_result"
    }
   ],
   "source": [
    "## Concatenar listas (juntar los elementos de dos listas diferentes)\n",
    "lista_2 = ['manzana', 'pera', 'melon']\n",
    "lista_3 = [4, True, False, 'servilleta']\n",
    "lista_2 + lista_3"
   ]
  },
  {
   "cell_type": "code",
   "execution_count": 38,
   "id": "a1f01c8b",
   "metadata": {},
   "outputs": [
    {
     "data": {
      "text/plain": [
       "[6, 'pera', 'melon']"
      ]
     },
     "execution_count": 38,
     "metadata": {},
     "output_type": "execute_result"
    }
   ],
   "source": [
    "# MUTABILIDAD\n",
    "# cambio\n",
    "lista_2[0] = 6\n",
    "lista_2"
   ]
  },
  {
   "cell_type": "code",
   "execution_count": 41,
   "id": "a520b37f",
   "metadata": {},
   "outputs": [
    {
     "data": {
      "text/plain": [
       "[4, True, False, 'laptop']"
      ]
     },
     "execution_count": 41,
     "metadata": {},
     "output_type": "execute_result"
    }
   ],
   "source": [
    "lista_3[3] = 'laptop'\n",
    "lista_3\n",
    "#las tuplas son INMUTABLAS, es decir que no se pueden cambiar"
   ]
  },
  {
   "cell_type": "code",
   "execution_count": 42,
   "id": "bdc23bf9",
   "metadata": {},
   "outputs": [
    {
     "data": {
      "text/plain": [
       "[4, True, False, 'laptop', 8]"
      ]
     },
     "execution_count": 42,
     "metadata": {},
     "output_type": "execute_result"
    }
   ],
   "source": [
    "#Metodos de listas\n",
    "lista_3.append(8) #agregar elementos al final\n",
    "lista_3"
   ]
  },
  {
   "cell_type": "code",
   "execution_count": 43,
   "id": "be9676ec",
   "metadata": {},
   "outputs": [
    {
     "data": {
      "text/plain": [
       "8"
      ]
     },
     "execution_count": 43,
     "metadata": {},
     "output_type": "execute_result"
    }
   ],
   "source": [
    "lista_3.pop() #saca el último elemento de la lista e imprime el elemento eliminado"
   ]
  },
  {
   "cell_type": "code",
   "execution_count": 44,
   "id": "4c53d0f6",
   "metadata": {},
   "outputs": [
    {
     "data": {
      "text/plain": [
       "[4, True, False, 'laptop']"
      ]
     },
     "execution_count": 44,
     "metadata": {},
     "output_type": "execute_result"
    }
   ],
   "source": [
    "lista_3"
   ]
  },
  {
   "cell_type": "code",
   "execution_count": 45,
   "id": "e2645fb5",
   "metadata": {},
   "outputs": [
    {
     "data": {
      "text/plain": [
       "4"
      ]
     },
     "execution_count": 45,
     "metadata": {},
     "output_type": "execute_result"
    }
   ],
   "source": [
    "lista_3.pop(0) #saca el elemento de la posición que se indico"
   ]
  },
  {
   "cell_type": "code",
   "execution_count": 46,
   "id": "867d4e00",
   "metadata": {},
   "outputs": [
    {
     "data": {
      "text/plain": [
       "[True, False, 'laptop']"
      ]
     },
     "execution_count": 46,
     "metadata": {},
     "output_type": "execute_result"
    }
   ],
   "source": [
    "lista_3"
   ]
  },
  {
   "cell_type": "code",
   "execution_count": 47,
   "id": "5b0f366e",
   "metadata": {},
   "outputs": [],
   "source": [
    "lista_3.insert(0,-20) #inserta en la posición 0 el elemento -20"
   ]
  },
  {
   "cell_type": "code",
   "execution_count": 48,
   "id": "9385e49f",
   "metadata": {},
   "outputs": [
    {
     "data": {
      "text/plain": [
       "[-20, True, False, 'laptop']"
      ]
     },
     "execution_count": 48,
     "metadata": {},
     "output_type": "execute_result"
    }
   ],
   "source": [
    "lista_3"
   ]
  },
  {
   "cell_type": "code",
   "execution_count": 56,
   "id": "6d09d2e6",
   "metadata": {},
   "outputs": [],
   "source": [
    "lista_4 = [9,3,1,8,0]\n",
    "lista_4.sort() #ordena de menor a mayor los números"
   ]
  },
  {
   "cell_type": "code",
   "execution_count": 57,
   "id": "e578fc41",
   "metadata": {},
   "outputs": [
    {
     "data": {
      "text/plain": [
       "[0, 1, 3, 8, 9]"
      ]
     },
     "execution_count": 57,
     "metadata": {},
     "output_type": "execute_result"
    }
   ],
   "source": [
    "lista_4"
   ]
  },
  {
   "cell_type": "code",
   "execution_count": 58,
   "id": "52fed7dc",
   "metadata": {},
   "outputs": [],
   "source": [
    "lista_4.reverse() #voltea la lista, Nota: si se quiere ordenar de mayor a menor primero debe usarse sort para ordenear de menor a mayor y luego reverse para voltear la lista"
   ]
  },
  {
   "cell_type": "code",
   "execution_count": 59,
   "id": "0271dfae",
   "metadata": {},
   "outputs": [
    {
     "data": {
      "text/plain": [
       "[9, 8, 3, 1, 0]"
      ]
     },
     "execution_count": 59,
     "metadata": {},
     "output_type": "execute_result"
    }
   ],
   "source": [
    "lista_4 "
   ]
  },
  {
   "cell_type": "markdown",
   "id": "15ce9aea",
   "metadata": {},
   "source": [
    "## Diccionarios"
   ]
  },
  {
   "cell_type": "code",
   "execution_count": 60,
   "id": "3aed6daf",
   "metadata": {},
   "outputs": [
    {
     "data": {
      "text/plain": [
       "{'Nombre': 'Sebastian', 'Color': 'rojo', 'Edad': 70}"
      ]
     },
     "execution_count": 60,
     "metadata": {},
     "output_type": "execute_result"
    }
   ],
   "source": [
    "# Un diccionario es un conjunto que tiene uan llave:valor de la llave \n",
    "d = {'Nombre': 'Sebastian',\n",
    "     'Color': 'rojo',\n",
    "     'Edad': 70}\n",
    "d"
   ]
  },
  {
   "cell_type": "code",
   "execution_count": 61,
   "id": "0cf8b6c8",
   "metadata": {},
   "outputs": [
    {
     "data": {
      "text/plain": [
       "dict"
      ]
     },
     "execution_count": 61,
     "metadata": {},
     "output_type": "execute_result"
    }
   ],
   "source": [
    "type(d) # tipo de dato, en este caso diccionario"
   ]
  },
  {
   "cell_type": "code",
   "execution_count": 62,
   "id": "775c6aa6",
   "metadata": {},
   "outputs": [
    {
     "data": {
      "text/plain": [
       "{'Nombres': ['Pepe', 'Maria', 'Fernanda', 'Jessica'],\n",
       " 'Colores': ['azul', 'rojo', 'amarillo', 'naranja'],\n",
       " 'Edades': [24, 15, 45, 99]}"
      ]
     },
     "execution_count": 62,
     "metadata": {},
     "output_type": "execute_result"
    }
   ],
   "source": [
    "d_1 = {'Nombres' : ['Pepe','Maria','Fernanda','Jessica'],\n",
    "       'Colores' : ['azul','rojo','amarillo','naranja'],\n",
    "       'Edades' : [24,15,45,99]}\n",
    "d_1"
   ]
  },
  {
   "cell_type": "code",
   "execution_count": 63,
   "id": "3bf86b98",
   "metadata": {},
   "outputs": [],
   "source": [
    "d_3 = {'llave_1' : 3,\n",
    "       'llave_2' : [9,8,7],\n",
    "       'llave_3' : {'llave_interna' : 89}\n",
    "      }"
   ]
  },
  {
   "cell_type": "code",
   "execution_count": 64,
   "id": "1661bdaa",
   "metadata": {},
   "outputs": [
    {
     "name": "stdout",
     "output_type": "stream",
     "text": [
      "3\n",
      "8\n"
     ]
    },
    {
     "data": {
      "text/plain": [
       "89"
      ]
     },
     "execution_count": 64,
     "metadata": {},
     "output_type": "execute_result"
    }
   ],
   "source": [
    "print(d_3['llave_1'])\n",
    "print(d_3['llave_2'][1])\n",
    "d_3['llave_3']['llave_interna']"
   ]
  },
  {
   "cell_type": "code",
   "execution_count": 65,
   "id": "a714351b",
   "metadata": {},
   "outputs": [
    {
     "data": {
      "text/plain": [
       "dict_keys(['Nombres', 'Colores', 'Edades'])"
      ]
     },
     "execution_count": 65,
     "metadata": {},
     "output_type": "execute_result"
    }
   ],
   "source": [
    "#Metodos para diccionarios\n",
    "d_1.keys() #nos regresa las columnas de un diccionario"
   ]
  },
  {
   "cell_type": "code",
   "execution_count": 66,
   "id": "e5cd9991",
   "metadata": {},
   "outputs": [
    {
     "data": {
      "text/plain": [
       "dict_values([['Pepe', 'Maria', 'Fernanda', 'Jessica'], ['azul', 'rojo', 'amarillo', 'naranja'], [24, 15, 45, 99]])"
      ]
     },
     "execution_count": 66,
     "metadata": {},
     "output_type": "execute_result"
    }
   ],
   "source": [
    "d_1.values() #nos regresa los valores de cada llave del diccionario"
   ]
  },
  {
   "cell_type": "code",
   "execution_count": 67,
   "id": "0628140c",
   "metadata": {},
   "outputs": [
    {
     "data": {
      "text/plain": [
       "[24, 15, 45, 99]"
      ]
     },
     "execution_count": 67,
     "metadata": {},
     "output_type": "execute_result"
    }
   ],
   "source": [
    "d_1.pop('Edades') #Nos quita las llaves 'Edades' junto con sus valores"
   ]
  },
  {
   "cell_type": "code",
   "execution_count": 68,
   "id": "bb14d111",
   "metadata": {},
   "outputs": [
    {
     "data": {
      "text/plain": [
       "{'Nombres': ['Pepe', 'Maria', 'Fernanda', 'Jessica'],\n",
       " 'Colores': ['azul', 'rojo', 'amarillo', 'naranja']}"
      ]
     },
     "execution_count": 68,
     "metadata": {},
     "output_type": "execute_result"
    }
   ],
   "source": [
    "d_1"
   ]
  },
  {
   "cell_type": "code",
   "execution_count": 72,
   "id": "e25c1567",
   "metadata": {},
   "outputs": [],
   "source": [
    "d_1['Ciudad'] = ['CDMX', 'NEW YORK', 'CDMX', 'AGUASCALIENTES']"
   ]
  },
  {
   "cell_type": "code",
   "execution_count": 73,
   "id": "e2d567ab",
   "metadata": {},
   "outputs": [
    {
     "data": {
      "text/plain": [
       "{'Nombres': ['Pepe', 'Maria', 'Fernanda', 'Jessica'],\n",
       " 'Colores': ['azul', 'rojo', 'amarillo', 'naranja'],\n",
       " 'Ciudad': ['CDMX', 'NEW YORK', 'CDMX', 'AGUASCALIENTES']}"
      ]
     },
     "execution_count": 73,
     "metadata": {},
     "output_type": "execute_result"
    }
   ],
   "source": [
    "d_1"
   ]
  },
  {
   "cell_type": "code",
   "execution_count": 74,
   "id": "73e1cc84",
   "metadata": {},
   "outputs": [
    {
     "data": {
      "text/plain": [
       "{'Nombres': ['Diego', 'Juan'], 'Apellido': ['Perez', 'Garcia']}"
      ]
     },
     "execution_count": 74,
     "metadata": {},
     "output_type": "execute_result"
    }
   ],
   "source": [
    "#otra forma de definir diccionarios es con la palabra reservada dict\n",
    "d_2 = dict (Nombres = ['Diego','Juan'], Apellido = ['Perez','Garcia'])\n",
    "d_2"
   ]
  },
  {
   "cell_type": "code",
   "execution_count": null,
   "id": "c040ed42",
   "metadata": {},
   "outputs": [],
   "source": []
  }
 ],
 "metadata": {
  "kernelspec": {
   "display_name": "Python 3",
   "language": "python",
   "name": "python3"
  },
  "language_info": {
   "codemirror_mode": {
    "name": "ipython",
    "version": 3
   },
   "file_extension": ".py",
   "mimetype": "text/x-python",
   "name": "python",
   "nbconvert_exporter": "python",
   "pygments_lexer": "ipython3",
   "version": "3.8.8"
  }
 },
 "nbformat": 4,
 "nbformat_minor": 5
}
